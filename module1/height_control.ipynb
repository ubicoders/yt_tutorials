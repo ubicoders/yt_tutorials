{
 "cells": [
  {
   "cell_type": "markdown",
   "metadata": {},
   "source": [
    "# Multirotor Altitude (Height) Control Mission\n",
    "\n",
    "Welcome to this lab where we demonstrate cascade PI controllers in Python! Our mission is straightforward: maintain the altitude of a multirotor at 20 meters. To achieve this, we will implement two PI controllers. One will control the velocity of the multirotor, and the other will control its position (altitude).\n",
    "\n",
    "By default, the multirotor in the Ubicoders virtual robot system operates without any system or sensor noise. For this demonstration, we'll use the default mode to focus on showcasing the cascade controller. If you'd like to turn on the noise, you can enable system noise from the simulation menu by pressing `Esc` -> Settings -> System Noise and/or Sensor Noise.\n",
    "\n",
    "As this assumes the environment wihtout any noise, no sensor fusion is reuqired.\n",
    "\n",
    "## 1. Getting Started\n",
    "\n",
    "This environment is set up for your local machine. Please ensure you have the following:\n",
    "\n",
    "1. Python 3.9+\n",
    "2. `pip install ubicoders-vrobots ipython numpy matplotlib`\n",
    "\n",
    "Optionally, if you're using VSCode:\n",
    "\n",
    "3. Python extension for VSCode by Microsoft\n",
    "\n",
    "## 2. Start the Bridge Servers\n",
    "\n",
    "The virtual robot bridge server acts as a data communication bridge between the virtual robot webpage and this script. To control the robots, we need to run the bridge first.\n",
    "\n",
    "Run the cell below and check the virtual robot webpage. A green light means it is ready to control the virtual robot! \n",
    "\n",
    "If not, you can:\n",
    "1. Click the connect button\n",
    "2. Or, refresh the page\n",
    "\n",
    "<img src=\"https://raw.githubusercontent.com/ubicoders/yt_tutorials/main/images/tutorial1.png\" alt=\"Description\" style=\"max-width: 100%; width: 50%; height: auto;\">\n",
    "\n",
    "Let's dive in and get started with our altitude control mission!\n"
   ]
  },
  {
   "cell_type": "code",
   "execution_count": null,
   "metadata": {},
   "outputs": [],
   "source": [
    "#===============================================================================\n",
    "# Run this cell to start the bridge!\n",
    "#===============================================================================\n",
    "import numpy as np\n",
    "import matplotlib.pyplot as plt\n",
    "import threading\n",
    "import asyncio\n",
    "from ubicoders_vrobots import run_servers\n",
    "from ubicoders_vrobots.vrobots_clients.vr_client_utils import (\n",
    "    VirtualRobot,\n",
    "    vr_client_main,\n",
    ")\n",
    "from ubicoders_vrobots.vrobots_msgs.python.states_msg_helper import VRobotState\n",
    "\n",
    "def run_bridge():\n",
    "    try:\n",
    "        asyncio.run(run_servers())\n",
    "    except KeyboardInterrupt:\n",
    "        print(\"Server stopped by user.\")\n",
    "\n",
    "try:\n",
    "    script_thread = threading.Thread(target=run_bridge)\n",
    "    script_thread.start()\n",
    "finally:\n",
    "    print(\"Ignition finished\")"
   ]
  },
  {
   "cell_type": "markdown",
   "metadata": {},
   "source": [
    "## 3. Mission Briefing\n",
    "\n",
    "Assuming the default mode (without noise), the basic mission is to make the quadrotor maintain its altitude at 20 meters above the ground. To achieve this goal, we will implement a set of 2 PI controllers. One is for the vertical velocity controller, and the other is for position (altitude). Eventually, you can set any desired altitude for the quadrotor to maintain.\n",
    "\n",
    "The system follows the aerospace engineering axis convention: X front, Y right, Z down. Therefore, 20 meters above the ground in the coordinate system will be (0, 0, -20).\n",
    "\n",
    "### 3.1 Goals\n",
    "- Maintain the altitude of 20 meters above the ground (0, 0, -20) in 20 seconds.\n",
    "- Implement 2 cascade PI controllers for z-axis velocity and position.\n",
    "\n",
    "### 3.2 Observe the Default Template\n",
    "\n",
    "The template class `MyVrobotsController` has a `loop` function - similar to Arduino. The `loop()` function will be called whenever the state message arrives from the virtual robot. Then, we can implement anything to control the robot. In this case, we will use one of the built-in functions, `update_cmd_multirotor(sysId, [pwm])`. This function expects a system ID and a PWM list. The system ID comes from the simulation. For now, the PWM values are fixed at 1501 for all 4 motors as this is only for the height control.\n",
    "\n",
    "Now, try to change the PWM values in the `update_cmd_multirotor()` function and observe how the quadcopter behaves!\n"
   ]
  },
  {
   "cell_type": "code",
   "execution_count": null,
   "metadata": {},
   "outputs": [],
   "source": [
    "class MyVRobotsController:\n",
    "    def __init__(self, vr: VirtualRobot = None):\n",
    "        self.vr = vr        \n",
    "\n",
    "    def loop(self):\n",
    "        # this is the states\n",
    "        states: VRobotState = self.vr.states\n",
    "        \n",
    "        # print a few of the states\n",
    "        print(f\"linPos: {states.linPos}\") # linear position\n",
    "        print(f\"linVel: {states.linVel}\") # linear velocity\n",
    "        print(f\"system ID: {states.sysId}\") # system ID\n",
    "        print(f\"timestamp: {states.timestamp}\") # timestamp\n",
    "    \n",
    "        # set the pwms (integers) for the 4 motors\n",
    "        self.vr.update_cmd_multirotor(states.sysId, [1501, 1501, 1501, 1501]) # (system_id, [motor1, motor2, motor3, motor4])\n",
    "\n",
    "vr_client_main(MyVRobotsController(), duration=10) # interact for 10 seconds"
   ]
  },
  {
   "cell_type": "markdown",
   "metadata": {},
   "source": [
    "## 4. General P-I Controller\n",
    "\n",
    "As mentioend earlier, there will be 2 PI controllers for velocity and position. In terms of \"re-usability\" of the code, we will implement a PI control class so we can reuse later.\n",
    "\n",
    "The PI controller below assumes only 1 axis as the goal is the z-axis position (height or altitutde) control. The key is that we need to saturate the error using `error_max` otherwise, the error integration will fluctuate too much."
   ]
  },
  {
   "cell_type": "code",
   "execution_count": null,
   "metadata": {},
   "outputs": [],
   "source": [
    "class PIController:\n",
    "    def __init__(self, kp=1, ki=1, error_max=100):\n",
    "        self.kp = kp\n",
    "        self.ki = ki\n",
    "        self.integral = 0\n",
    "        self.error_max = error_max\n",
    "\n",
    "    def error_integrator(self, error):\n",
    "        self.integral += error\n",
    "        self.integral = np.clip(self.integral, -self.error_max, self.error_max)\n",
    "    \n",
    "    def update(self, error):\n",
    "        self.error_integrator(error)\n",
    "        return self.kp * error + self.ki * self.integral"
   ]
  },
  {
   "cell_type": "markdown",
   "metadata": {},
   "source": [
    "## 5. Putting All Together\n",
    "\n",
    "Cheat code!\n",
    "\n",
    "```\n",
    "self.vel_pi_ctrl = PIController(kp=60, ki=2.5, error_max=100)\n",
    "self.alt_pi_ctrl = PIController(kp=0.8, ki=0.01, error_max=100)\n",
    "```"
   ]
  },
  {
   "cell_type": "code",
   "execution_count": null,
   "metadata": {},
   "outputs": [],
   "source": [
    "class MyVRobotsController:\n",
    "\n",
    "    def __init__(self, vr: VirtualRobot = None):\n",
    "        self.vr = vr\n",
    "        self.vel_pi_ctrl = PIController(kp=0, ki=0, error_max=100)\n",
    "        self.alt_pi_ctrl = PIController(kp=0, ki=0, error_max=100)\n",
    " \n",
    "    def loop(self):\n",
    "        states: VRobotState = self.vr.states\n",
    "\n",
    "        # altitude control\n",
    "        current_altitude = -states.linPos.z # z axis down is positive\n",
    "        alt_setpoint = 20 # 20 meters above the ground\n",
    "        error_altitude = alt_setpoint - current_altitude # error is positive if below setpoint\n",
    "        velocity_setpoint = self.alt_pi_ctrl.update(error_altitude) # velocity setpoint, output of the alt - PI controller\n",
    "        velocity_setpoint = np.clip(velocity_setpoint, -10, 10)\n",
    "        print(f\"velocity setpoint: {velocity_setpoint}\")\n",
    "\n",
    "        # velocity control\n",
    "        vel_error = velocity_setpoint - (-states.linVel.z) # error is positive if below setpoint\n",
    "        throttle_sp =  self.vel_pi_ctrl.update(vel_error)\n",
    "        throttle = 1200 + throttle_sp\n",
    "        throttle = np.clip(throttle, 1200, 2000)\n",
    "        print(f\"throttle: {int(throttle)}\")\n",
    "        self.vr.update_cmd_multirotor(0, [throttle, throttle, throttle, throttle])\n",
    "\n",
    "vr_client_main(MyVRobotsController(), duration=20)"
   ]
  }
 ],
 "metadata": {
  "kernelspec": {
   "display_name": "ubicoders",
   "language": "python",
   "name": "python3"
  },
  "language_info": {
   "codemirror_mode": {
    "name": "ipython",
    "version": 3
   },
   "file_extension": ".py",
   "mimetype": "text/x-python",
   "name": "python",
   "nbconvert_exporter": "python",
   "pygments_lexer": "ipython3",
   "version": "3.11.7"
  }
 },
 "nbformat": 4,
 "nbformat_minor": 2
}
